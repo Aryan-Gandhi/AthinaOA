{
  "nbformat": 4,
  "nbformat_minor": 0,
  "metadata": {
    "colab": {
      "provenance": []
    },
    "kernelspec": {
      "name": "python3",
      "display_name": "Python 3"
    },
    "language_info": {
      "name": "python"
    }
  },
  "cells": [
    {
      "cell_type": "markdown",
      "source": [
        "## Importing all the dependencies"
      ],
      "metadata": {
        "id": "AgEXyIEUZ96C"
      }
    },
    {
      "cell_type": "code",
      "source": [
        "import pandas as pd\n",
        "import numpy as np\n",
        "import matplotlib.pyplot as plt\n",
        "import time\n",
        "import openai\n",
        "from langchain_openai import ChatOpenAI\n",
        "from collections import Counter\n",
        "from sentence_transformers import SentenceTransformer, util\n",
        "import os\n",
        "from datasets import Dataset, Features, Sequence, Value\n",
        "from ragas import evaluate\n",
        "from ragas.metrics import (\n",
        "    faithfulness,\n",
        "    answer_relevancy,\n",
        "    context_recall,\n",
        "    context_precision,\n",
        ")"
      ],
      "metadata": {
        "id": "fojb5gIEkYY-"
      },
      "execution_count": 83,
      "outputs": []
    },
    {
      "cell_type": "markdown",
      "source": [
        "## **Calculating Context Precision, Context Recall, Faithfulness, Answer Relevancy**"
      ],
      "metadata": {
        "id": "EpZDPgihaw9-"
      }
    },
    {
      "cell_type": "code",
      "source": [
        "df = pd.read_csv('/datasets/results.csv')\n",
        "\n",
        "# Prepare the data dictionary for the Dataset\n",
        "data = {\n",
        "    \"question\": [str(q) for q in df[\"Question\"].tolist()],\n",
        "    \"ground_truth\": [str(gt) for gt in df[\"Answer\"].tolist()],\n",
        "    \"answer\": [str(output) for output in df[\"llm_output\"].tolist()],\n",
        "    \"contexts\": [str(ctx).split() for ctx in df[\"context\"].tolist()],\n",
        "}\n",
        "\n",
        "# Define the schema for the Dataset\n",
        "features = Features({\n",
        "    \"question\": Value(\"string\"),\n",
        "    \"ground_truth\": Value(\"string\"),\n",
        "    \"answer\": Value(\"string\"),\n",
        "    \"contexts\": Sequence(Value(\"string\")),\n",
        "})\n",
        "\n",
        "# Create a Dataset from the data dictionary and the defined features\n",
        "dataset = Dataset.from_dict(data, features=features)\n",
        "\n",
        "# Split the dataset into 25 approximately equal parts\n",
        "num_splits = 25\n",
        "splits = np.array_split(dataset.to_pandas(), num_splits)"
      ],
      "metadata": {
        "id": "ZFVpAh3FewNh"
      },
      "execution_count": null,
      "outputs": []
    },
    {
      "cell_type": "code",
      "source": [
        "# Function to Evaluate each split\n",
        "def process_split(split):\n",
        "    split_dataset = Dataset.from_pandas(split, features=features)\n",
        "\n",
        "    result = evaluate(\n",
        "        dataset=split_dataset,\n",
        "        metrics=[\n",
        "            context_precision,\n",
        "            context_recall,\n",
        "            faithfulness,\n",
        "            answer_relevancy,\n",
        "        ],\n",
        "    )\n",
        "    return result.to_pandas()"
      ],
      "metadata": {
        "id": "Wib2XtDkbiVj"
      },
      "execution_count": null,
      "outputs": []
    },
    {
      "cell_type": "code",
      "source": [
        "# Process each split and concatenate the results\n",
        "combined_results = pd.DataFrame()\n",
        "\n",
        "for i, split in enumerate(splits):\n",
        "    print(f\"Processing split {i+1}/{num_splits}...\")\n",
        "    split_result = process_split(split)\n",
        "    combined_results = pd.concat([combined_results, split_result], ignore_index=True)\n",
        "    print(f\"Finished processing split {i+1}/{num_splits}.\")\n",
        "    time.sleep(10)\n",
        "\n",
        "csv_file_path = \"/datasets/RAGA_results.csv\"\n",
        "combined_results.to_csv(csv_file_path, index=False)"
      ],
      "metadata": {
        "id": "H6a19ggdbj8g"
      },
      "execution_count": null,
      "outputs": []
    },
    {
      "cell_type": "code",
      "source": [
        "# Calcualting average to get percent\n",
        "averages = df.mean(numeric_only=True)\n",
        "\n",
        "print(\"Average Faithfulness:\", averages['faithfulness'])\n",
        "print(\"Average Answer Relevancy:\", averages['answer_relevancy'])\n",
        "print(\"Average Context Recall:\", averages['Context_Recall'])\n",
        "print(\"Average Context Precision:\", averages['Context_Precision'])"
      ],
      "metadata": {
        "colab": {
          "base_uri": "https://localhost:8080/"
        },
        "id": "g871F6uZRw3j",
        "outputId": "7f5b3fc0-570b-436c-da6c-3735cd6bdf76"
      },
      "execution_count": 89,
      "outputs": [
        {
          "output_type": "stream",
          "name": "stdout",
          "text": [
            "Average Faithfulness: 0.7312064884433306\n",
            "Average Answer Relevancy: 0.8765342009172743\n",
            "Average Context Recall: 0.7178362573099415\n",
            "Average Context Precision: 0.8435672514619882\n"
          ]
        }
      ]
    },
    {
      "cell_type": "markdown",
      "source": [
        "## **Calculating Semantic Similarity Score**"
      ],
      "metadata": {
        "id": "deM0AxGWlyU8"
      }
    },
    {
      "cell_type": "code",
      "source": [
        "# Load the pre-trained sentence transformer model\n",
        "model = SentenceTransformer('sentence-transformers/all-MiniLM-L6-v2')"
      ],
      "metadata": {
        "id": "wGi9xPefmf82"
      },
      "execution_count": null,
      "outputs": []
    },
    {
      "cell_type": "code",
      "source": [
        "similarity_scores = []\n",
        "\n",
        "for _, row in df.iterrows():\n",
        "\n",
        "    # Extract the ground truth answer and the model output from the DataFrame row\n",
        "    ground_truth = str(row['Answer'])\n",
        "    llm_output = str(row['llm_output'])\n",
        "\n",
        "    # Compute the cosine similarity between the embeddings of the ground truth and model output\n",
        "    similarity_score = util.pytorch_cos_sim(model.encode(ground_truth), model.encode(llm_output)).item()\n",
        "    similarity_scores.append(similarity_score)\n",
        "\n",
        "# Calculate the average similarity score\n",
        "average_similarity_score = sum(similarity_scores) / len(similarity_scores)\n",
        "print(f\"Average semantic similarity score: {average_similarity_score:.4f}\")"
      ],
      "metadata": {
        "colab": {
          "base_uri": "https://localhost:8080/"
        },
        "id": "wRa5vfh_lPyv",
        "outputId": "941f79c6-3b70-4c8d-f542-35a4ef6530ac"
      },
      "execution_count": 33,
      "outputs": [
        {
          "output_type": "stream",
          "name": "stdout",
          "text": [
            "Average semantic similarity score: 0.7610\n"
          ]
        }
      ]
    },
    {
      "cell_type": "markdown",
      "source": [
        "# **Calculating Hallucinations**"
      ],
      "metadata": {
        "id": "QbWdq5RPPdw-"
      }
    },
    {
      "cell_type": "code",
      "source": [
        "model = ChatOpenAI(model='gpt-4', max_tokens=3)"
      ],
      "metadata": {
        "id": "d1LAUxfucLR2"
      },
      "execution_count": null,
      "outputs": []
    },
    {
      "cell_type": "code",
      "source": [
        "# Define a function to compare the submitted answer with the expert answer\n",
        "def compare_answers_langchain(question, ground_truth, llm_output):\n",
        "\n",
        "    # Create a prompt to compare the factual content of the submitted answer with the expert answer\n",
        "    prompt = f\"\"\"\n",
        "    ************\n",
        "    [Question]: {question}\n",
        "    ************\n",
        "    [Expert]: {ground_truth}\n",
        "    ************\n",
        "    [Submission]: {llm_output}\n",
        "    ************\n",
        "    Compare the factual content of the submitted answer with the expert answer. Ignore any differences in style, grammar, or punctuation.\n",
        "    Answer the question by selecting one of the following options:\n",
        "    (A) The submitted answer is a subset of the expert answer and is fully consistent with it.\n",
        "    (B) The submitted answer is a superset of the expert answer and is fully consistent with it.\n",
        "    (C) The submitted answer contains all the same details as the expert answer.\n",
        "    (D) There is a disagreement between the submitted answer and the expert answer.\n",
        "    (E) The answers differ, but these differences don't matter from the perspective of factuality.\n",
        "    \"\"\"\n",
        "    response = model.invoke(prompt)\n",
        "\n",
        "    return response"
      ],
      "metadata": {
        "id": "bKiIpJ7ecfZy"
      },
      "execution_count": null,
      "outputs": []
    },
    {
      "cell_type": "code",
      "source": [
        "comparison_results_langchain = []\n",
        "\n",
        "# Call the function to compare answers and store the result\n",
        "for index, row in df.iterrows():\n",
        "    question = row['Question']\n",
        "    ground_truth = row['Answer']\n",
        "    llm_output = row['llm_output']\n",
        "\n",
        "    comparison_result_langchain = compare_answers_langchain(question, ground_truth, llm_output)\n",
        "    comparison_results_langchain.append(comparison_result_langchain)"
      ],
      "metadata": {
        "colab": {
          "base_uri": "https://localhost:8080/"
        },
        "id": "3LVtSyfq9uhz",
        "outputId": "329b8bac-681f-4032-a914-cf9a585cf042"
      },
      "execution_count": 76,
      "outputs": [
        {
          "output_type": "stream",
          "name": "stdout",
          "text": [
            "Comparison results using langchain:\n",
            "[AIMessage(content='(B) The', response_metadata={'token_usage': {'completion_tokens': 3, 'prompt_tokens': 255, 'total_tokens': 258}, 'model_name': 'gpt-4', 'system_fingerprint': None, 'finish_reason': 'length', 'logprobs': None}, id='run-bdc42512-4c7c-4722-af3c-7c124acb26b0-0', usage_metadata={'input_tokens': 255, 'output_tokens': 3, 'total_tokens': 258}), AIMessage(content='(B) The', response_metadata={'token_usage': {'completion_tokens': 3, 'prompt_tokens': 473, 'total_tokens': 476}, 'model_name': 'gpt-4', 'system_fingerprint': None, 'finish_reason': 'length', 'logprobs': None}, id='run-1b362bf4-b3dd-470e-8bea-131c20a2e02c-0', usage_metadata={'input_tokens': 473, 'output_tokens': 3, 'total_tokens': 476}), AIMessage(content='(D) There', response_metadata={'token_usage': {'completion_tokens': 3, 'prompt_tokens': 486, 'total_tokens': 489}, 'model_name': 'gpt-4', 'system_fingerprint': None, 'finish_reason': 'length', 'logprobs': None}, id='run-41316dcd-2569-4db7-9caa-2ba02dfa072f-0', usage_metadata={'input_tokens': 486, 'output_tokens': 3, 'total_tokens': 489}), AIMessage(content='(C) The', response_metadata={'token_usage': {'completion_tokens': 3, 'prompt_tokens': 222, 'total_tokens': 225}, 'model_name': 'gpt-4', 'system_fingerprint': None, 'finish_reason': 'length', 'logprobs': None}, id='run-f51d7321-eaf6-48de-8997-86026a044e38-0', usage_metadata={'input_tokens': 222, 'output_tokens': 3, 'total_tokens': 225}), AIMessage(content='(D) There', response_metadata={'token_usage': {'completion_tokens': 3, 'prompt_tokens': 266, 'total_tokens': 269}, 'model_name': 'gpt-4', 'system_fingerprint': None, 'finish_reason': 'length', 'logprobs': None}, id='run-3d1c2952-3855-4bbe-8139-c51485b6186f-0', usage_metadata={'input_tokens': 266, 'output_tokens': 3, 'total_tokens': 269}), AIMessage(content='(D) There', response_metadata={'token_usage': {'completion_tokens': 3, 'prompt_tokens': 511, 'total_tokens': 514}, 'model_name': 'gpt-4', 'system_fingerprint': None, 'finish_reason': 'length', 'logprobs': None}, id='run-148db62b-01d6-46b8-9ade-b9f8e77235ba-0', usage_metadata={'input_tokens': 511, 'output_tokens': 3, 'total_tokens': 514}), AIMessage(content='(C) The', response_metadata={'token_usage': {'completion_tokens': 3, 'prompt_tokens': 275, 'total_tokens': 278}, 'model_name': 'gpt-4', 'system_fingerprint': None, 'finish_reason': 'length', 'logprobs': None}, id='run-9d9b17e1-08dc-4ca2-802d-aa349b6eaf1b-0', usage_metadata={'input_tokens': 275, 'output_tokens': 3, 'total_tokens': 278}), AIMessage(content='(C) The', response_metadata={'token_usage': {'completion_tokens': 3, 'prompt_tokens': 267, 'total_tokens': 270}, 'model_name': 'gpt-4', 'system_fingerprint': None, 'finish_reason': 'length', 'logprobs': None}, id='run-cc1bacde-f165-430a-9506-967cab81139e-0', usage_metadata={'input_tokens': 267, 'output_tokens': 3, 'total_tokens': 270}), AIMessage(content='(C) The', response_metadata={'token_usage': {'completion_tokens': 3, 'prompt_tokens': 264, 'total_tokens': 267}, 'model_name': 'gpt-4', 'system_fingerprint': None, 'finish_reason': 'length', 'logprobs': None}, id='run-d0d3a41c-0c39-4461-a3f7-43c6de3566a3-0', usage_metadata={'input_tokens': 264, 'output_tokens': 3, 'total_tokens': 267}), AIMessage(content='(B) The', response_metadata={'token_usage': {'completion_tokens': 3, 'prompt_tokens': 325, 'total_tokens': 328}, 'model_name': 'gpt-4', 'system_fingerprint': None, 'finish_reason': 'length', 'logprobs': None}, id='run-925188d4-6d14-4bfa-a170-df222ad73f82-0', usage_metadata={'input_tokens': 325, 'output_tokens': 3, 'total_tokens': 328}), AIMessage(content='(A) The', response_metadata={'token_usage': {'completion_tokens': 3, 'prompt_tokens': 273, 'total_tokens': 276}, 'model_name': 'gpt-4', 'system_fingerprint': None, 'finish_reason': 'length', 'logprobs': None}, id='run-eca4c5f9-1378-47b8-a2cd-6331b5f97e10-0', usage_metadata={'input_tokens': 273, 'output_tokens': 3, 'total_tokens': 276}), AIMessage(content='(B) The', response_metadata={'token_usage': {'completion_tokens': 3, 'prompt_tokens': 382, 'total_tokens': 385}, 'model_name': 'gpt-4', 'system_fingerprint': None, 'finish_reason': 'length', 'logprobs': None}, id='run-6c820cab-baad-42d1-9ae8-911172bf69fa-0', usage_metadata={'input_tokens': 382, 'output_tokens': 3, 'total_tokens': 385}), AIMessage(content='(C) The', response_metadata={'token_usage': {'completion_tokens': 3, 'prompt_tokens': 248, 'total_tokens': 251}, 'model_name': 'gpt-4', 'system_fingerprint': None, 'finish_reason': 'length', 'logprobs': None}, id='run-d18c9a51-1e95-45fb-ac05-675e70749980-0', usage_metadata={'input_tokens': 248, 'output_tokens': 3, 'total_tokens': 251}), AIMessage(content='(C) The', response_metadata={'token_usage': {'completion_tokens': 3, 'prompt_tokens': 282, 'total_tokens': 285}, 'model_name': 'gpt-4', 'system_fingerprint': None, 'finish_reason': 'length', 'logprobs': None}, id='run-3da26008-eb5d-494b-b2f2-2a5f7850d8ae-0', usage_metadata={'input_tokens': 282, 'output_tokens': 3, 'total_tokens': 285}), AIMessage(content='(C) The', response_metadata={'token_usage': {'completion_tokens': 3, 'prompt_tokens': 323, 'total_tokens': 326}, 'model_name': 'gpt-4', 'system_fingerprint': None, 'finish_reason': 'length', 'logprobs': None}, id='run-008a6978-edf4-4871-b75f-fd208c340a6e-0', usage_metadata={'input_tokens': 323, 'output_tokens': 3, 'total_tokens': 326}), AIMessage(content='(B) The', response_metadata={'token_usage': {'completion_tokens': 3, 'prompt_tokens': 365, 'total_tokens': 368}, 'model_name': 'gpt-4', 'system_fingerprint': None, 'finish_reason': 'length', 'logprobs': None}, id='run-1bbe9b9c-117b-45ca-ae14-ffe4a67f19f9-0', usage_metadata={'input_tokens': 365, 'output_tokens': 3, 'total_tokens': 368}), AIMessage(content='(C) The', response_metadata={'token_usage': {'completion_tokens': 3, 'prompt_tokens': 265, 'total_tokens': 268}, 'model_name': 'gpt-4', 'system_fingerprint': None, 'finish_reason': 'length', 'logprobs': None}, id='run-42c39de8-c22c-42f0-ae06-f2abe4cfd5bf-0', usage_metadata={'input_tokens': 265, 'output_tokens': 3, 'total_tokens': 268}), AIMessage(content='(C) The', response_metadata={'token_usage': {'completion_tokens': 3, 'prompt_tokens': 241, 'total_tokens': 244}, 'model_name': 'gpt-4', 'system_fingerprint': None, 'finish_reason': 'length', 'logprobs': None}, id='run-e8ffd521-d53e-41e4-8edd-c0e08fbc8094-0', usage_metadata={'input_tokens': 241, 'output_tokens': 3, 'total_tokens': 244}), AIMessage(content='(B) The', response_metadata={'token_usage': {'completion_tokens': 3, 'prompt_tokens': 378, 'total_tokens': 381}, 'model_name': 'gpt-4', 'system_fingerprint': None, 'finish_reason': 'length', 'logprobs': None}, id='run-6b4f8722-7d6f-4034-849d-8f34343bd2ff-0', usage_metadata={'input_tokens': 378, 'output_tokens': 3, 'total_tokens': 381}), AIMessage(content='(A) The', response_metadata={'token_usage': {'completion_tokens': 3, 'prompt_tokens': 269, 'total_tokens': 272}, 'model_name': 'gpt-4', 'system_fingerprint': None, 'finish_reason': 'length', 'logprobs': None}, id='run-cd87128a-e098-4a7d-bd99-22ef338a0183-0', usage_metadata={'input_tokens': 269, 'output_tokens': 3, 'total_tokens': 272}), AIMessage(content='(C) The', response_metadata={'token_usage': {'completion_tokens': 3, 'prompt_tokens': 254, 'total_tokens': 257}, 'model_name': 'gpt-4', 'system_fingerprint': None, 'finish_reason': 'length', 'logprobs': None}, id='run-031d82dc-dc8c-4fd2-9272-13a616f6e4b6-0', usage_metadata={'input_tokens': 254, 'output_tokens': 3, 'total_tokens': 257}), AIMessage(content='(B) The', response_metadata={'token_usage': {'completion_tokens': 3, 'prompt_tokens': 329, 'total_tokens': 332}, 'model_name': 'gpt-4', 'system_fingerprint': None, 'finish_reason': 'length', 'logprobs': None}, id='run-7e4421a6-0c69-4d2c-85d8-58aec64672e4-0', usage_metadata={'input_tokens': 329, 'output_tokens': 3, 'total_tokens': 332}), AIMessage(content='(C) The', response_metadata={'token_usage': {'completion_tokens': 3, 'prompt_tokens': 281, 'total_tokens': 284}, 'model_name': 'gpt-4', 'system_fingerprint': None, 'finish_reason': 'length', 'logprobs': None}, id='run-d1ed19cd-5573-4fb4-83e8-152bc3687d25-0', usage_metadata={'input_tokens': 281, 'output_tokens': 3, 'total_tokens': 284}), AIMessage(content='(C) The', response_metadata={'token_usage': {'completion_tokens': 3, 'prompt_tokens': 246, 'total_tokens': 249}, 'model_name': 'gpt-4', 'system_fingerprint': None, 'finish_reason': 'length', 'logprobs': None}, id='run-8fef7533-69db-4393-ae9a-4a4b0be4a08a-0', usage_metadata={'input_tokens': 246, 'output_tokens': 3, 'total_tokens': 249}), AIMessage(content='(B) The', response_metadata={'token_usage': {'completion_tokens': 3, 'prompt_tokens': 438, 'total_tokens': 441}, 'model_name': 'gpt-4', 'system_fingerprint': None, 'finish_reason': 'length', 'logprobs': None}, id='run-d88813eb-eaee-4bbf-b153-4643f8a01979-0', usage_metadata={'input_tokens': 438, 'output_tokens': 3, 'total_tokens': 441}), AIMessage(content='(C) The', response_metadata={'token_usage': {'completion_tokens': 3, 'prompt_tokens': 235, 'total_tokens': 238}, 'model_name': 'gpt-4', 'system_fingerprint': None, 'finish_reason': 'length', 'logprobs': None}, id='run-f5d9271f-7efc-4f9e-b1c9-b247253984f7-0', usage_metadata={'input_tokens': 235, 'output_tokens': 3, 'total_tokens': 238}), AIMessage(content='(B) The', response_metadata={'token_usage': {'completion_tokens': 3, 'prompt_tokens': 475, 'total_tokens': 478}, 'model_name': 'gpt-4', 'system_fingerprint': None, 'finish_reason': 'length', 'logprobs': None}, id='run-5e70a6fa-1b18-4c8d-a856-2ccef1f6e2cf-0', usage_metadata={'input_tokens': 475, 'output_tokens': 3, 'total_tokens': 478}), AIMessage(content='(B) The', response_metadata={'token_usage': {'completion_tokens': 3, 'prompt_tokens': 344, 'total_tokens': 347}, 'model_name': 'gpt-4', 'system_fingerprint': None, 'finish_reason': 'length', 'logprobs': None}, id='run-c389da6f-b044-4b53-9cf3-3fccaeffda13-0', usage_metadata={'input_tokens': 344, 'output_tokens': 3, 'total_tokens': 347}), AIMessage(content='(B) The', response_metadata={'token_usage': {'completion_tokens': 3, 'prompt_tokens': 353, 'total_tokens': 356}, 'model_name': 'gpt-4', 'system_fingerprint': None, 'finish_reason': 'length', 'logprobs': None}, id='run-eafa6da4-7127-4575-bcd2-f86b0904557d-0', usage_metadata={'input_tokens': 353, 'output_tokens': 3, 'total_tokens': 356}), AIMessage(content='(B) The', response_metadata={'token_usage': {'completion_tokens': 3, 'prompt_tokens': 367, 'total_tokens': 370}, 'model_name': 'gpt-4', 'system_fingerprint': None, 'finish_reason': 'length', 'logprobs': None}, id='run-0c27ae90-3944-4cdf-8057-5052d79c10be-0', usage_metadata={'input_tokens': 367, 'output_tokens': 3, 'total_tokens': 370}), AIMessage(content='(B) The', response_metadata={'token_usage': {'completion_tokens': 3, 'prompt_tokens': 368, 'total_tokens': 371}, 'model_name': 'gpt-4', 'system_fingerprint': None, 'finish_reason': 'length', 'logprobs': None}, id='run-4fb65846-81f9-46a8-a2e1-646ed3bfc504-0', usage_metadata={'input_tokens': 368, 'output_tokens': 3, 'total_tokens': 371}), AIMessage(content='(B) The', response_metadata={'token_usage': {'completion_tokens': 3, 'prompt_tokens': 289, 'total_tokens': 292}, 'model_name': 'gpt-4', 'system_fingerprint': None, 'finish_reason': 'length', 'logprobs': None}, id='run-9c8413a0-9b3e-4098-bd7c-6e854b9da182-0', usage_metadata={'input_tokens': 289, 'output_tokens': 3, 'total_tokens': 292}), AIMessage(content='(B) The', response_metadata={'token_usage': {'completion_tokens': 3, 'prompt_tokens': 368, 'total_tokens': 371}, 'model_name': 'gpt-4', 'system_fingerprint': None, 'finish_reason': 'length', 'logprobs': None}, id='run-f82f1e14-130a-44d8-ad9f-e31bd93b67f3-0', usage_metadata={'input_tokens': 368, 'output_tokens': 3, 'total_tokens': 371}), AIMessage(content='(B) The', response_metadata={'token_usage': {'completion_tokens': 3, 'prompt_tokens': 317, 'total_tokens': 320}, 'model_name': 'gpt-4', 'system_fingerprint': None, 'finish_reason': 'length', 'logprobs': None}, id='run-48410f42-8882-4ddf-9ff8-2ccf9530b0be-0', usage_metadata={'input_tokens': 317, 'output_tokens': 3, 'total_tokens': 320}), AIMessage(content='(B) The', response_metadata={'token_usage': {'completion_tokens': 3, 'prompt_tokens': 347, 'total_tokens': 350}, 'model_name': 'gpt-4', 'system_fingerprint': None, 'finish_reason': 'length', 'logprobs': None}, id='run-cc97a029-4587-496b-a0b8-25c16228fe0b-0', usage_metadata={'input_tokens': 347, 'output_tokens': 3, 'total_tokens': 350}), AIMessage(content='(B) The', response_metadata={'token_usage': {'completion_tokens': 3, 'prompt_tokens': 339, 'total_tokens': 342}, 'model_name': 'gpt-4', 'system_fingerprint': None, 'finish_reason': 'length', 'logprobs': None}, id='run-9bb99ca6-4383-4e22-b960-55bbda59d37b-0', usage_metadata={'input_tokens': 339, 'output_tokens': 3, 'total_tokens': 342}), AIMessage(content='(B) The', response_metadata={'token_usage': {'completion_tokens': 3, 'prompt_tokens': 331, 'total_tokens': 334}, 'model_name': 'gpt-4', 'system_fingerprint': None, 'finish_reason': 'length', 'logprobs': None}, id='run-de3c5195-4d16-4fc7-a0e9-e1117745e409-0', usage_metadata={'input_tokens': 331, 'output_tokens': 3, 'total_tokens': 334}), AIMessage(content='(B) The', response_metadata={'token_usage': {'completion_tokens': 3, 'prompt_tokens': 385, 'total_tokens': 388}, 'model_name': 'gpt-4', 'system_fingerprint': None, 'finish_reason': 'length', 'logprobs': None}, id='run-de667d4e-f22a-44fa-b1c2-b1bbfafe5d34-0', usage_metadata={'input_tokens': 385, 'output_tokens': 3, 'total_tokens': 388}), AIMessage(content='(D) There', response_metadata={'token_usage': {'completion_tokens': 3, 'prompt_tokens': 306, 'total_tokens': 309}, 'model_name': 'gpt-4', 'system_fingerprint': None, 'finish_reason': 'length', 'logprobs': None}, id='run-64968076-2504-493e-93ef-9a11dcc87b79-0', usage_metadata={'input_tokens': 306, 'output_tokens': 3, 'total_tokens': 309}), AIMessage(content='(D) There', response_metadata={'token_usage': {'completion_tokens': 3, 'prompt_tokens': 328, 'total_tokens': 331}, 'model_name': 'gpt-4', 'system_fingerprint': None, 'finish_reason': 'length', 'logprobs': None}, id='run-8a550fb6-927d-4fe4-b95a-987184244eec-0', usage_metadata={'input_tokens': 328, 'output_tokens': 3, 'total_tokens': 331}), AIMessage(content='(B) The', response_metadata={'token_usage': {'completion_tokens': 3, 'prompt_tokens': 253, 'total_tokens': 256}, 'model_name': 'gpt-4', 'system_fingerprint': None, 'finish_reason': 'length', 'logprobs': None}, id='run-4f983a10-788c-44f8-9f52-ca4d7df0f933-0', usage_metadata={'input_tokens': 253, 'output_tokens': 3, 'total_tokens': 256}), AIMessage(content='(D) There', response_metadata={'token_usage': {'completion_tokens': 3, 'prompt_tokens': 248, 'total_tokens': 251}, 'model_name': 'gpt-4', 'system_fingerprint': None, 'finish_reason': 'length', 'logprobs': None}, id='run-9a33213f-ff69-4a7c-bce4-ccc6e40717da-0', usage_metadata={'input_tokens': 248, 'output_tokens': 3, 'total_tokens': 251}), AIMessage(content='(B) The', response_metadata={'token_usage': {'completion_tokens': 3, 'prompt_tokens': 348, 'total_tokens': 351}, 'model_name': 'gpt-4', 'system_fingerprint': None, 'finish_reason': 'length', 'logprobs': None}, id='run-53fd3e1e-e72a-44ec-9cea-d5d2bf4c6663-0', usage_metadata={'input_tokens': 348, 'output_tokens': 3, 'total_tokens': 351}), AIMessage(content='(B) The', response_metadata={'token_usage': {'completion_tokens': 3, 'prompt_tokens': 294, 'total_tokens': 297}, 'model_name': 'gpt-4', 'system_fingerprint': None, 'finish_reason': 'length', 'logprobs': None}, id='run-5db7c453-3335-488e-a149-7314f449058b-0', usage_metadata={'input_tokens': 294, 'output_tokens': 3, 'total_tokens': 297}), AIMessage(content='(D) There', response_metadata={'token_usage': {'completion_tokens': 3, 'prompt_tokens': 217, 'total_tokens': 220}, 'model_name': 'gpt-4', 'system_fingerprint': None, 'finish_reason': 'length', 'logprobs': None}, id='run-d0b386c4-9b61-48e1-9e80-646db4e86dab-0', usage_metadata={'input_tokens': 217, 'output_tokens': 3, 'total_tokens': 220}), AIMessage(content='(B) The', response_metadata={'token_usage': {'completion_tokens': 3, 'prompt_tokens': 342, 'total_tokens': 345}, 'model_name': 'gpt-4', 'system_fingerprint': None, 'finish_reason': 'length', 'logprobs': None}, id='run-fc20a86e-f37f-4613-b9f9-4c2037f950d5-0', usage_metadata={'input_tokens': 342, 'output_tokens': 3, 'total_tokens': 345}), AIMessage(content='(B) The', response_metadata={'token_usage': {'completion_tokens': 3, 'prompt_tokens': 278, 'total_tokens': 281}, 'model_name': 'gpt-4', 'system_fingerprint': None, 'finish_reason': 'length', 'logprobs': None}, id='run-400976ab-dd84-4871-8c0a-8257d50a3976-0', usage_metadata={'input_tokens': 278, 'output_tokens': 3, 'total_tokens': 281}), AIMessage(content='(B) The', response_metadata={'token_usage': {'completion_tokens': 3, 'prompt_tokens': 376, 'total_tokens': 379}, 'model_name': 'gpt-4', 'system_fingerprint': None, 'finish_reason': 'length', 'logprobs': None}, id='run-80539a7f-5216-44b7-9355-4ff981fe1683-0', usage_metadata={'input_tokens': 376, 'output_tokens': 3, 'total_tokens': 379}), AIMessage(content='(B) The', response_metadata={'token_usage': {'completion_tokens': 3, 'prompt_tokens': 354, 'total_tokens': 357}, 'model_name': 'gpt-4', 'system_fingerprint': None, 'finish_reason': 'length', 'logprobs': None}, id='run-a8f76131-5bc7-4c37-8b8d-aef22f8ceb60-0', usage_metadata={'input_tokens': 354, 'output_tokens': 3, 'total_tokens': 357}), AIMessage(content='(E) The', response_metadata={'token_usage': {'completion_tokens': 3, 'prompt_tokens': 256, 'total_tokens': 259}, 'model_name': 'gpt-4', 'system_fingerprint': None, 'finish_reason': 'length', 'logprobs': None}, id='run-b2a056e9-6f62-417f-9aca-cd5f09a2cabc-0', usage_metadata={'input_tokens': 256, 'output_tokens': 3, 'total_tokens': 259}), AIMessage(content='(B) The', response_metadata={'token_usage': {'completion_tokens': 3, 'prompt_tokens': 325, 'total_tokens': 328}, 'model_name': 'gpt-4', 'system_fingerprint': None, 'finish_reason': 'length', 'logprobs': None}, id='run-dbfb31af-01dc-4ab5-a9ed-76850675b508-0', usage_metadata={'input_tokens': 325, 'output_tokens': 3, 'total_tokens': 328}), AIMessage(content='(B) The', response_metadata={'token_usage': {'completion_tokens': 3, 'prompt_tokens': 302, 'total_tokens': 305}, 'model_name': 'gpt-4', 'system_fingerprint': None, 'finish_reason': 'length', 'logprobs': None}, id='run-05eb4d63-302d-4593-ad12-c9e9899a3e27-0', usage_metadata={'input_tokens': 302, 'output_tokens': 3, 'total_tokens': 305}), AIMessage(content='(B) The', response_metadata={'token_usage': {'completion_tokens': 3, 'prompt_tokens': 265, 'total_tokens': 268}, 'model_name': 'gpt-4', 'system_fingerprint': None, 'finish_reason': 'length', 'logprobs': None}, id='run-e99bae8c-e58b-4a21-9ec6-eaaa2ce105b4-0', usage_metadata={'input_tokens': 265, 'output_tokens': 3, 'total_tokens': 268}), AIMessage(content='(D) There', response_metadata={'token_usage': {'completion_tokens': 3, 'prompt_tokens': 227, 'total_tokens': 230}, 'model_name': 'gpt-4', 'system_fingerprint': None, 'finish_reason': 'length', 'logprobs': None}, id='run-58004a02-d9ef-40b7-a982-2e27992001ea-0', usage_metadata={'input_tokens': 227, 'output_tokens': 3, 'total_tokens': 230}), AIMessage(content='(B) The', response_metadata={'token_usage': {'completion_tokens': 3, 'prompt_tokens': 243, 'total_tokens': 246}, 'model_name': 'gpt-4', 'system_fingerprint': None, 'finish_reason': 'length', 'logprobs': None}, id='run-dce0833d-c40c-4018-8801-63e96bd50949-0', usage_metadata={'input_tokens': 243, 'output_tokens': 3, 'total_tokens': 246}), AIMessage(content='(B) The', response_metadata={'token_usage': {'completion_tokens': 3, 'prompt_tokens': 319, 'total_tokens': 322}, 'model_name': 'gpt-4', 'system_fingerprint': None, 'finish_reason': 'length', 'logprobs': None}, id='run-7c9e5825-e038-4c93-b21e-e98cb6d2c6ff-0', usage_metadata={'input_tokens': 319, 'output_tokens': 3, 'total_tokens': 322}), AIMessage(content='(C) The', response_metadata={'token_usage': {'completion_tokens': 3, 'prompt_tokens': 234, 'total_tokens': 237}, 'model_name': 'gpt-4', 'system_fingerprint': None, 'finish_reason': 'length', 'logprobs': None}, id='run-fbbd9df8-4f94-49ce-97f5-51e2aff88de2-0', usage_metadata={'input_tokens': 234, 'output_tokens': 3, 'total_tokens': 237})]\n"
          ]
        }
      ]
    },
    {
      "cell_type": "code",
      "source": [
        "Hallucinations = ['B','B','D','C','D','D','C','C','C','B','A','B','C','C','C','B','C','C','B','A','C','C','C','B','C','B','B','B','B','B','B','B','B','B','B','B','B','B','D','D','B','D','B','B','D','B','B','B','B','E','B','B','B','D','B','B','C']"
      ],
      "metadata": {
        "id": "OSJmQh4WDPn6"
      },
      "execution_count": 81,
      "outputs": []
    },
    {
      "cell_type": "markdown",
      "source": [
        "## **Visualizing Hallucinations Results**"
      ],
      "metadata": {
        "id": "qCIJ470mbCgF"
      }
    },
    {
      "cell_type": "code",
      "source": [
        "key = {\n",
        "    'A': 'The submitted answer is a subset of the expert answer and is fully consistent with it.',\n",
        "    'B': 'The submitted answer is a superset of the expert answer and is fully consistent with it.',\n",
        "    'C': 'The submitted answer contains all the same details as the expert answer.',\n",
        "    'D': 'There is a disagreement between the submitted answer and the expert answer.',\n",
        "    'E': 'The answers differ, but these differences don\\'t matter from the perspective of factuality.'\n",
        "}\n",
        "\n",
        "counts = Counter(Hallucinations)\n",
        "\n",
        "labels = list(key.keys())\n",
        "values = [counts[label] for label in labels]\n",
        "\n",
        "fig, ax = plt.subplots(figsize=(10, 6))\n",
        "ax.bar(labels, values)\n",
        "\n",
        "ax.set_xlabel('Keys used for calculating Hallucinations')\n",
        "ax.set_ylabel('Count')\n",
        "ax.set_title('Visualization of Hallucinations')\n",
        "\n",
        "plt.xticks()\n",
        "plt.show()"
      ],
      "metadata": {
        "colab": {
          "base_uri": "https://localhost:8080/",
          "height": 564
        },
        "id": "6OZRZbefEBHQ",
        "outputId": "5d65b8ca-fecf-4960-a5b4-74bbf690a169"
      },
      "execution_count": 88,
      "outputs": [
        {
          "output_type": "display_data",
          "data": {
            "text/plain": [
              "<Figure size 1000x600 with 1 Axes>"
            ],
            "image/png": "[encoded data removed]"
          },
          "metadata": {}
        }
      ]
    },
    {
      "cell_type": "markdown",
      "source": [
        "**Significance of Each Alphabet**\n",
        "\n",
        "\n",
        "    'A': 'The submitted answer is a subset of the expert answer and is fully consistent with it.'\n",
        "    'B': 'The submitted answer is a superset of the expert answer and is fully consistent with it.'\n",
        "    'C': 'The submitted answer contains all the same details as the expert answer.'\n",
        "    'D': 'There is a disagreement between the submitted answer and the expert answer.'\n",
        "    'E': 'The answers differ, but these differences don't matter from the perspective of factuality.'"
      ],
      "metadata": {
        "id": "IbGe1GJgFEeY"
      }
    },
    {
      "cell_type": "code",
      "source": [],
      "metadata": {
        "id": "UBIKdW388yE1"
      },
      "execution_count": null,
      "outputs": []
    }
  ]
}