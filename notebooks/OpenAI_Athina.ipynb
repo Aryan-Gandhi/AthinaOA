{
  "nbformat": 4,
  "nbformat_minor": 0,
  "metadata": {
    "colab": {
      "provenance": []
    },
    "kernelspec": {
      "name": "python3",
      "display_name": "Python 3"
    },
    "language_info": {
      "name": "python"
    }
  },
  "cells": [
    {
      "cell_type": "code",
      "source": [
        "# Importing all the dependencies\n",
        "import os\n",
        "from dotenv import load_dotenv\n",
        "import streamlit as st\n",
        "import pandas as pd\n",
        "from PyPDF2 import PdfReader\n",
        "from langchain.text_splitter import CharacterTextSplitter, RecursiveCharacterTextSplitter\n",
        "from langchain.chat_models import ChatOpenAI\n",
        "from langchain_community.embeddings.openai import OpenAIEmbeddings\n",
        "from langchain_community.vectorstores import FAISS\n",
        "from langchain.chains import ConversationalRetrievalChain\n",
        "from langchain.chains.question_answering import load_qa_chain\n",
        "from langchain_community.embeddings import HuggingFaceEmbeddings\n",
        "from langchain_community.document_loaders import PyPDFLoader ,TextLoader\n",
        "from langchain.prompts import PromptTemplate\n",
        "from langchain.chains.conversation.memory import ConversationBufferMemory\n",
        "from langchain.prompts import ChatPromptTemplate, SystemMessagePromptTemplate, HumanMessagePromptTemplate\n",
        "from langchain.chains import RetrievalQA"
      ],
      "metadata": {
        "id": "BVq1rer81zmr"
      },
      "execution_count": 2,
      "outputs": []
    },
    {
      "cell_type": "code",
      "execution_count": 3,
      "metadata": {
        "id": "ozY5XkdT1p13"
      },
      "outputs": [],
      "source": [
        "# Load environment variables from a .env file\n",
        "os.environ['OPENAI_API_KEY'] =  \"sk-proj-n9XgDCkrc5Uiwii2imllT3BlbkFJuGuUeoTXSsiGdmrl0fbh\""
      ]
    },
    {
      "cell_type": "code",
      "source": [
        "# Load the pdf files and extract text\n",
        "path = \"athina_doc.pdf\"\n",
        "\n",
        "loader = PyPDFLoader(path)\n",
        "documents = loader.load()"
      ],
      "metadata": {
        "id": "eZGzBiU62j9E"
      },
      "execution_count": 4,
      "outputs": []
    },
    {
      "cell_type": "code",
      "source": [
        "# Creating chunks of size 1000 from the extracted text\n",
        "text_splitter = RecursiveCharacterTextSplitter(chunk_size=1000, chunk_overlap=200)\n",
        "all_splits = text_splitter.split_documents(documents)"
      ],
      "metadata": {
        "id": "0R1-oZ0C2p3o"
      },
      "execution_count": 6,
      "outputs": []
    },
    {
      "cell_type": "code",
      "source": [
        "# Creating vector embeddings for the chunks and storing them in the vector store\n",
        "embeddings = OpenAIEmbeddings()\n",
        "vector_store = FAISS.from_documents(all_splits, embeddings)"
      ],
      "metadata": {
        "id": "gnM8pzrG2rcF",
        "colab": {
          "base_uri": "https://localhost:8080/"
        },
        "outputId": "b917dc2d-baea-441c-b442-5b0ed49c35aa"
      },
      "execution_count": 7,
      "outputs": [
        {
          "output_type": "stream",
          "name": "stderr",
          "text": [
            "/usr/local/lib/python3.10/dist-packages/langchain_core/_api/deprecation.py:117: LangChainDeprecationWarning: The class `langchain_community.embeddings.openai.OpenAIEmbeddings` was deprecated in langchain-community 0.1.0 and will be removed in 0.2.0. An updated version of the class exists in the langchain-openai package and should be used instead. To use it run `pip install -U langchain-openai` and import as `from langchain_openai import OpenAIEmbeddings`.\n",
            "  warn_deprecated(\n"
          ]
        }
      ]
    },
    {
      "cell_type": "code",
      "source": [
        "# System prompt template to guide the model's response behavior\n",
        "system_template = \"\"\"You are an AI assistant tasked with answering questions based on the provided context information. If you don't know the answer, just say 'Please ask me relevant questions!', don't try to make up an answer. Keep the answer short and to the point and do not add text that is not asked. Always say \"thanks for asking!\" at the end of the answer.\n",
        "            {context}\n",
        "            Question: {question}\n",
        "            Helpful Answer:\"\"\"\n",
        "\n",
        "QA_CHAIN_PROMPT = PromptTemplate.from_template(system_template)"
      ],
      "metadata": {
        "id": "H7RXUpzP2wyN"
      },
      "execution_count": 8,
      "outputs": []
    },
    {
      "cell_type": "code",
      "source": [
        " # Initializing the GPT-4 model\n",
        "model = ChatOpenAI(model='gpt-4', max_tokens=1000)\n",
        "\n",
        "# Setting up the retriever with the vector store\n",
        "retriever = vector_store.as_retriever(search_type='similarity', search_kwargs={'k': 3})"
      ],
      "metadata": {
        "colab": {
          "base_uri": "https://localhost:8080/"
        },
        "id": "d5cgW8SY3yex",
        "outputId": "fa2d0e30-49fe-421f-e6d4-edab3d3d6bfb"
      },
      "execution_count": 9,
      "outputs": [
        {
          "output_type": "stream",
          "name": "stderr",
          "text": [
            "/usr/local/lib/python3.10/dist-packages/langchain_core/_api/deprecation.py:117: LangChainDeprecationWarning: The class `langchain_community.chat_models.openai.ChatOpenAI` was deprecated in langchain-community 0.0.10 and will be removed in 0.2.0. An updated version of the class exists in the langchain-openai package and should be used instead. To use it run `pip install -U langchain-openai` and import as `from langchain_openai import ChatOpenAI`.\n",
            "  warn_deprecated(\n"
          ]
        }
      ]
    },
    {
      "cell_type": "code",
      "source": [
        "# Setting up memory to keep track of the conversation history\n",
        "memory = ConversationBufferMemory(memory_key='chat_history', return_messages=True)"
      ],
      "metadata": {
        "id": "ojRMjpWt5cyO"
      },
      "execution_count": 10,
      "outputs": []
    },
    {
      "cell_type": "code",
      "source": [
        "# Creating the conversational retrieval chain\n",
        "chain = ConversationalRetrievalChain.from_llm(\n",
        "        llm=model,\n",
        "        retriever=retriever,\n",
        "        memory=memory,\n",
        "        chain_type='stuff',\n",
        "        combine_docs_chain_kwargs={'prompt': QA_CHAIN_PROMPT},\n",
        "        verbose=False\n",
        "                    )"
      ],
      "metadata": {
        "id": "eaTkv1132zP-"
      },
      "execution_count": 11,
      "outputs": []
    },
    {
      "cell_type": "code",
      "source": [
        "# Loading the test_dataset to get the LLM_OUTPUTS\n",
        "df = pd.read_csv('/datasets/test_dataset.csv')"
      ],
      "metadata": {
        "id": "blfDmNFCVHA7"
      },
      "execution_count": null,
      "outputs": []
    },
    {
      "cell_type": "code",
      "source": [
        "# Iterate over all the questions in the test_dataset and get the LLM_OUTPUTS\n",
        "results = []\n",
        "\n",
        "for index, row in df.iterrows():\n",
        "    question = row['Question']\n",
        "    answer = row['Answer']\n",
        "    result = chain.invoke(question)\n",
        "    context = retriever.get_relevant_documents(question)\n",
        "\n",
        "    results.append({'question': question, 'ground_truth':answer, 'llm_output': result['answer'],'context': context['context']})\n",
        "\n",
        "# Store the combined data ( Question, Ground Truth, LLM Output, Context) in a .csv file\n",
        "contexts = pd.DataFrame(results)\n",
        "contexts.to_csv('results.csv', index=False)\n",
        "\n",
        "print(\"Results saved to results.csv\")"
      ],
      "metadata": {
        "id": "w97YaC3f7VcJ"
      },
      "execution_count": null,
      "outputs": []
    },
    {
      "cell_type": "code",
      "source": [
        "results"
      ],
      "metadata": {
        "colab": {
          "base_uri": "https://localhost:8080/"
        },
        "id": "a0i3tw_wAtEA",
        "outputId": "5f669144-945e-47f0-a006-28602a87db11"
      },
      "execution_count": null,
      "outputs": [
        {
          "output_type": "execute_result",
          "data": {
            "text/plain": [
              "[{'question': \"What is the term for modifications made to a car's standard specifications, including optional extras, by a previous owner?\",\n",
              "  'LLMoutput': 'The term \"modifications\" refers to any changes to a car\\'s standard specifications, including optional extras, whether made by you or a previous owner. These modifications can affect the appearance or performance of the car, such as changes to wheels, suspension, bodywork, and engine among others. Thanks for asking!'},\n",
              " {'question': 'What should you do if your car keys are lost or stolen and you need them replaced, considering theft and accidental damage?',\n",
              "  'LLMoutput': \"If your car keys are lost or damaged, the insurance company will either repair or replace them and the locks they fit, including any locksmith charges. You'll need to pay the accidental damage excess. If your keys are stolen, they'll replace the keys and locks, but you'll need to pay the theft excess and report the theft to the police, providing the insurance company with the crime reference number. In both cases, the company will also provide cover to reprogram immobilisers, infrared handsets, and alarms. If you have the Guaranteed Hire Car Plus cover and can't drive your car because of lost or stolen keys, the cover will be extended while you're unable to use the car. Remember, you must take all reasonable steps to protect your keys from loss, damage or theft. Thanks for asking!\"},\n",
              " {'question': 'What personal benefits does the car insurance policy cover for accidents, injuries, and car damages?',\n",
              "  'LLMoutput': \"The car insurance policy covers personal accidents, which include help if you or your partner are accidentally injured or killed in a car accident involving your car. This includes payment for injuries that cause death, loss of sight in one or both eyes, or loss of any limb within three months of the accident. This coverage is up to the amounts shown in 'What your cover includes' on page 8. \\n\\nFor car damages, the policy covers the cost of repairing or replacing your car up to its UK market value at the time of the claim. \\n\\nHowever, it does not cover damages caused by any driver insured on this policy to any property they own or are responsible for, liability for loss of, or accidental damage to, any car you're driving or any trailer or vehicle you're towing. Death or injury to anyone working with or for the driver of the car (except as set out in the Road Traffic Act) is also not covered.\\n\\nThanks for asking!\"},\n",
              " {'question': 'What types of cover include windscreen damage for Essentials, Comprehensive, and Comprehensive Plus?',\n",
              "  'LLMoutput': 'The types of coverage that include windscreen damage are Essentials, Comprehensive, and Comprehensive Plus. Thanks for asking!'},\n",
              " {'question': 'What types of damage are not covered under the policy in relation to vandalism?',\n",
              "  'LLMoutput': 'The policy does not specify particular types of vandalism that are not covered. However, it does mention that you need to report the vandalism to the police, obtain a crime reference number, and pay the excess that applies to accidental damage claims when the car is unattended. If these conditions are not met, the vandalism damage might not be covered. Thanks for asking!'},\n",
              " {'question': 'What types of loss, damage, or injury caused by automated cars are not covered by insurance?',\n",
              "  'LLMoutput': \"The insurance policy does not cover loss, damage, or injury caused by autonomous vehicles in the following situations: \\n1. When the vehicle is being driven outside of Great Britain.\\n2. When the automated functions are being used unlawfully.\\n3. If an accident is caused or contributed to by any party suffering the loss, damage, or injury.\\n4. If the accident is caused by a failure to install safety critical updates to the car or its software has been altered without the approval of the manufacturer.\\n5. If the person in charge of the car negligently allows the car to drive itself when it's not appropriate.\\n6. If the loss, damage, or injury is to property owned or under responsibility of the insured person.\\n7. If the loss, damage, or injury is already covered by another insurance policy.\\nThanks for asking!\"},\n",
              " {'question': 'What are the consequences of not providing correct and complete information about incidents or motoring offenses that have occurred since the policy started?',\n",
              "  'LLMoutput': 'If one fails to provide accurate and complete information about incidents or motoring offenses that have occurred since the insurance policy started, it could invalidate the policy or result in the insurance company not paying claims in full or at all. Thanks for asking!'},\n",
              " {'question': 'What losses are not covered by the insurance policy in relation to damage caused by riot or civil commotion outside Great Britain?',\n",
              "  'LLMoutput': 'The insurance policy does not cover any loss or damage to your car or property caused by riots or civil commotion occurring outside of Great Britain, the Isle of Man, or the Channel Islands. Thanks for asking!'},\n",
              " {'question': 'How much will you pay if my car is damaged?',\n",
              "  'LLMoutput': \"If your car gets damaged and it's covered under your policy, the insurance company will pay the cost of repairing or replacing your car up to its UK market value. This is the current value of your car at the time of the claim. Thanks for asking!\"},\n",
              " {'question': 'Who is covered to drive other cars?',\n",
              "  'LLMoutput': \"The main driver may be eligible to drive other cars under the insurance policy provided they are not covered by another insurance policy, they do not own the other car or it isn't hired to them, the car is not a hire, rental or courtesy car unless provided by the insurance, the car's owner gives permission, the car is registered and driven within territorial limits or in the Republic of Ireland, and the main driver still has their car and it hasn't been written off. This information will be indicated on the certificate of motor insurance. Thanks for asking!\"},\n",
              " {'question': 'Am I covered if I leave my car unlocked or the keys in the car?',\n",
              "  'LLMoutput': 'No, the insurance policy does not cover theft or attempted theft if your car is left unlocked or if the keys or key fobs are left in, on, or attached to the car. Thanks for asking!'},\n",
              " {'question': 'What’s not included in my cover?',\n",
              "  'LLMoutput': 'Your insurance coverage does not include mechanical or electrical failure, wear and tear, damage to tyres caused by braking, punctures, cuts or bursts, and breakdowns. It also does not provide cover if your car is being used by someone who’s not insured on the policy, by someone who’s disqualified from driving, or for a purpose that’s not allowed on the policy. Loss, damage, liability or injury that happens while your car is being driven by anyone who isn’t named or is listed as excluded, or used for a purpose that isn’t shown as allowed on your certificate of motor insurance or car insurance details, is also not covered. Loss or damage caused by a government agency or other authority that legally takes, keeps or destroys your car is not covered either. Thanks for asking!'},\n",
              " {'question': 'Does Churchill have approved repairers?',\n",
              "  'LLMoutput': 'Yes, Churchill customers have access to a national network of approved repairers. If your car is repaired by one of these, they will handle all aspects of your repair. Thanks for asking!'},\n",
              " {'question': 'What is DriveSure?',\n",
              "  'LLMoutput': 'DriveSure refers to a telematics insurance product. It captures how, when and where your car is driven, based on driver-monitoring technology. It is used to understand your driving style and provide feedback. Therefore, your premium can be based on your driving record. Thanks for asking!'},\n",
              " {'question': 'What’s the difference between commuting and business use?',\n",
              "  'LLMoutput': 'In the context of car insurance, commuting refers to driving to and from a permanent place of work. This can include driving to a car park, railway station, or bus stop as part of the journey to work. On the other hand, business use provides cover for driving in connection with a business or employment. The specifics of the business use will be indicated in the certificate of motor insurance. Thanks for asking!'},\n",
              " {'question': 'Can I use my car abroad?',\n",
              "  'LLMoutput': \"Yes, it is possible to use your car abroad. Your coverage will depend on the type of policy you have and where you're driving. You may need a Green Card for travelling abroad. Your car keys will be covered while driving abroad if you have Comprehensive cover and you've added Foreign Use Extension to your cover before you travel, or if you have Comprehensive Plus cover, where 90 days of Foreign Use Extension is included for each insured period. You're not covered for any reduction in your car’s market value due to lost keys, or losses that aren't directly due to your keys being lost or damaged. Please refer to 'Where you can drive' on page 31 for full details. Thanks for asking!\"},\n",
              " {'question': 'Are my electric car’s charging cables covered?',\n",
              "  'LLMoutput': \"Yes, your electric car's charging cables are considered an accessory to your car and are covered under 'Section 2: Fire and theft' or 'Section 4: Accidental damage' of your policy. Thanks for asking!\"},\n",
              " {'question': 'Is my electric car battery covered?',\n",
              "  'LLMoutput': \"Yes, your electric car's battery is covered if it's damaged as a result of an insured incident. This applies whether your battery is owned or leased. Thanks for asking!\"},\n",
              " {'question': 'What should I do immediately after an accident?',\n",
              "  'LLMoutput': \"The steps to take immediately following a car accident are: \\n1. Ensure safety first: Stop at the scene and call police and emergency services if there are any injuries or if any driver involved hasn't stopped.\\n2. Document the accident: Take photos if it's safe to do so and remember that dash cam footage could be useful.\\n3. Collect other driver/vehicle details: Ask the other party for their contact details, vehicle registration, name, address, and telephone number. Do not accept blame for the accident.\\n4. Get witness information: If any passers-by have stopped, ask for their contact details for possible future statements.\\n5. Call your insurance provider: You should do this as soon as possible to report the accident. \\nThanks for asking!\"},\n",
              " {'question': 'What is considered an accessory to my car?',\n",
              "  'LLMoutput': 'Accessories to your car include parts or products specifically designed to be fitted to your car. This includes your electric car’s charging cables and the charger installed at your home. Some accessories may be treated as modifications, so any changes to your car should be reported. Thanks for asking!'},\n",
              " {'question': 'What is an approved repairer?',\n",
              "  'LLMoutput': 'An \"approved repairer\" refers to a repairer in the network of contracted repairers who is approved and authorized by the insurance company to carry out repairs to your car following a claim under the policy. Thanks for asking!'},\n",
              " {'question': 'What is a courtesy car?',\n",
              "  'LLMoutput': \"A courtesy car is a small hatchback car, or similar car, that an approved repairer supplies to you temporarily on behalf of the insurance company while your car is being repaired. The courtesy car has an engine size of up to 1000cc and can be driven by the policyholder or any other driver named on the certificate of motor insurance. However, driving the courtesy car is subject to the limits on use and exclusions shown on the certificate of motor insurance and in the terms of the policy. The courtesy car cannot be used in the Republic of Ireland and may not be available on the day it's requested. Thanks for asking!\"},\n",
              " {'question': 'What is a cyber event?',\n",
              "  'LLMoutput': 'A \"cyber event\" refers to an unauthorized, malicious, or criminal act that aims to create an outcome that includes, but is not limited to, interruption to electronic communications, corruption, unauthorized access to, or theft of data, and hacking or service denial. Thanks for asking!'},\n",
              " {'question': 'What is an excess?',\n",
              "  'LLMoutput': 'The term \"excess\" in the context of insurance refers to the amount that you may have to pay towards a claim. The details of the excesses can be found in your car insurance details. Thanks for asking!'},\n",
              " {'question': 'What should I do if I need to make a claim?',\n",
              "  'LLMoutput': \"To file a claim with your insurance company, follow these steps:\\n\\n1. Call the appropriate number based on the nature of your claim. General claims can be made at 0345 878 6261, windscreen claims at 0800 328 9150, and legal claims at 0345 246 2408.\\n2. Have the following information handy: your personal details, your policy number, your car registration number, a description of the loss or damage, and if you've been in an accident, the other driver’s details.\\n3. Send any relevant communication such as notices or forms from a court, threats of legal action, or other related information. Contact the insurance company straight away if you receive these.\\n4. Do not do anything that would increase the amount of the claim without the insurance company's written permission.\\n5. Be ready to pay an excess for some claims.\\n\\nRemember, it's important to let the insurance company know about the accident as quickly as possible, even if you don’t make a claim. Thanks for asking!\"},\n",
              " {'question': 'How can I contact DriveSure support?',\n",
              "  'LLMoutput': 'For DriveSure support, you can either email at Support@churchill.com or call at 0345 878 6375. Thanks for asking!'},\n",
              " {'question': 'What should I do if I have a complaint?',\n",
              "  'LLMoutput': \"If you have a complaint, follow these steps:\\n\\n1. Call 0800 051 0198 if you're in the UK or +44 (0) 141 349 0193 if you're outside the UK to speak about your problem. If the complaint relates to Green Flag breakdown cover, mention that when you call.\\n\\n2. If you'd prefer to write, send your letter to the Customer Relations Manager at Churchill Court, Westmoreland Road, Bromley BR1 1DP.\\n\\n3. If your complaint is not resolved within three working days, you will be contacted about who is dealing with it and what the next steps are.\\n\\n4. If investigations are not completed within 8 weeks, or you're unhappy with the response, you may contact the Financial Ombudsman Service at complaint.info@financial-ombudsman.org.uk or 0300 123 9123 / 0800 023 4567 if in the UK, or +44 (0) 20 7964 0500 if abroad. You can also write to them at Exchange Tower, London E14 9SR.\\n\\nRemember to contact the Financial Ombudsman Service within 6 months of the response letter from the original company. Thanks for asking!\"},\n",
              " {'question': 'What are the contact details for the Financial Ombudsman Service?',\n",
              "  'LLMoutput': 'The Financial Ombudsman Service can be contacted via:\\n\\nEmail: complaint.info@financial-ombudsman.org.uk\\n\\nPhone: \\n- UK: 0300 123 9123 or 0800 023 4567\\n- Abroad: +44 (0) 20 7964 0500\\n\\nAddress: Financial Ombudsman Service, Exchange Tower, London E14 9SR\\n\\nWebsite: www.financial-ombudsman.org.uk\\n\\nThanks for asking!'},\n",
              " {'question': 'What is covered under Section 1: Liability?',\n",
              "  'LLMoutput': '\"Section 1: Liability\" of the insurance policy provides coverage if the policyholder is found to be legally responsible for an accident. The cover includes injury or death of someone and damage to someone else\\'s property resulting from an accident involving the policyholder\\'s car, a trailer or vehicle they\\'re towing, or any electric charging cables attached to the car. It also covers emergency medical treatment if required. If the policyholder\\'s car is an automated vehicle and it\\'s on the Secretary of State’s list of motor vehicles that may safely drive themselves, the policy will also cover accidents caused by the automated car while it\\'s driving itself. The specific level of coverage depends on the type of insurance the policyholder has. Thanks for asking!'},\n",
              " {'question': 'What does Section 2: Fire and Theft cover?',\n",
              "  'LLMoutput': 'Under \"Section 2: Fire and Theft\" of this car insurance policy, your car is covered if it is stolen, damaged as a result of theft or attempted theft, or damaged by fire, lightning, or an explosion. The insurance company can choose to repair, replace, or repay for the damages. If you have a child car seat fitted in your car and it\\'s damaged by fire or theft, or if your car is stolen and not recovered, the company will arrange a replacement or cover the cost of replacing the child car seat with a new one of a similar standard. The coverage amounts for fire damage, theft or attempted theft of your car, child car seat replacement, in-car entertainment, removable electronic equipment, and theft of car keys vary depending on the type of insurance you have. Thanks for asking!'},\n",
              " {'question': 'What does Section 3: Courtesy Car cover?',\n",
              "  'LLMoutput': '\"Section 3: Courtesy Car\" in the insurance policy covers provision of a small hatchback car as a courtesy while your car is being repaired by an approved repairer. The courtesy car will have an engine size of up to 1000cc. The policyholder or any other driver named on the insurance certificate is covered to drive the courtesy car within certain limitations and exclusions. However, the courtesy car may not be available on the day and it can only be driven within the territorial limits, not in the Republic of Ireland. If the insurance cover is third party, fire and theft, additional cover under sections 4 and 5 is provided for the courtesy car with certain excesses for claims. The courtesy car is not provided if your car is written off or is stolen and not recovered. Thanks for asking!'},\n",
              " {'question': 'What does Section 4: Accidental Damage cover?',\n",
              "  'LLMoutput': '\"Section 4: Accidental Damage\" in the insurance policy covers accidental damage to your car, child car seat replacement, in-car entertainment that was fitted at the time of manufacture, in-car entertainment installed after manufacture, removable electronic equipment, misfuelling, and lost or damaged car keys. The extent of coverage varies depending on the type of policy: Third Party, Fire and Theft, Essentials, Comprehensive, or Comprehensive Plus. Thanks for asking!'},\n",
              " {'question': 'What does Section 5: Windscreen Damage cover?',\n",
              "  'LLMoutput': 'Under \"Section 5: Windscreen Damage,\" the policy will cover the cost to replace or repair accidentally broken glass in the windscreen, sunroof, or windows of your car. It also covers repair of any scratching to the bodywork caused by the broken glass, provided there was no other loss or damage from the same incident. The policy also covers recalibration of your car’s Advanced Driver Assistance System (ADAS) related to the repair or replacement of your car’s windscreen. If your car has a folding roof, the replacement of the roof and rear windscreen assembly together is covered if it is more cost-effective than replacing the glass alone. The specific amount you\\'re covered for is detailed on page 8 and depends on whether you use an approved windscreen supplier or choose a different supplier for repairs or replacement. Thanks for asking!'},\n",
              " {'question': 'What does Section 6: Personal Benefits cover?',\n",
              "  'LLMoutput': '\"Section 6: Personal Benefits\" in the insurance policy covers the additional benefits you have as part of your car insurance. This includes cover for accidents that aren\\'t your fault and involve an uninsured driver where you\\'ll not have to pay an excess and your No Claim Discount will not be affected. It also includes personal accident cover, where the insurance will pay for injuries or death caused in a car accident involving your car, up to the amounts specified in the policy. However, the policy will not cover injury or death caused by suicide, attempted suicide, or driving under the influence of alcohol or drugs. Thanks for asking!'},\n",
              " {'question': 'What does Section 7: Motor Legal Cover provide?',\n",
              "  'LLMoutput': '\"Section 7: Motor Legal Cover\" in the insurance policy provides coverage for legal costs if you need to take legal action or defend yourself in court, as long as your claim has a reasonable chance of success. This cover is included with the Comprehensive Plus plan and is an optional extra for Third Party, Fire and Theft, Essentials, and Comprehensive plans. The policy does not cover legal claims for any loss or damage already covered by other insurance, incidents that happened before the cover started, costs not agreed upon, fines or penalties, disputes under the Motor Legal Cover, or action against another person insured by this policy. The overall limit for all claims related to the same incident is £100,000. Thanks for asking!'},\n",
              " {'question': 'What does Section 8: Guaranteed Hire Car Plus cover?',\n",
              "  'LLMoutput': 'The \"Section 8: Guaranteed Hire Car Plus\" cover provides a hire car of a similar size to yours if your car is damaged, written off, or stolen. The type and size of the hire car are decided by the hire car company and depend on your car\\'s size. If a hire car cannot be provided, travel costs up to £50 per day, up to a total of £500 per claim, will be repaid. The duration of access to the hire car depends on whether an approved repairer is used. The cover applies when dealing with a claim under sections 2 or 4 of the policy. Thanks for asking!'},\n",
              " {'question': 'What does Section 9: Protected No Claim Discount offer?',\n",
              "  'LLMoutput': '\"Section 9: Protected No Claim Discount\" offers the policyholder the ability to protect their No Claim Discount (NCD) by paying an additional premium. This protection means that the policyholder can make up to 2 claims in 3 years without affecting their NCD. However, if more than 2 claims are made in 3 years, the NCD may be affected. This protection does not guarantee the insurance premium, which may still increase if a claim is made. It is an optional extra for specific types of covers including Third Party, Fire and Theft; Essentials; Comprehensive; and Comprehensive Plus. Thanks for asking!'},\n",
              " {'question': 'What countries are included under ‘Where you can drive’?',\n",
              "  'LLMoutput': \"The countries included in the 'Where you can drive' section of the policy are all member countries of the European Union, and other listed countries that meet specific requirements. These countries are Andorra, Austria, Belgium, Bosnia and Herzegovina, Bulgaria, Croatia, Cyprus, Czech Republic, Denmark, Estonia, Finland, France, Germany, Gibraltar, Greece, Hungary, Iceland, Italy, Latvia, Liechtenstein, Lithuania, Luxembourg, Malta, Montenegro, Netherlands, Norway, Poland, Portugal, Romania, Serbia, Slovakia, Slovenia, Spain, Sweden, and Switzerland. Also, the policy applies in Great Britain, Northern Ireland, the Channel Islands, and the Isle of Man, as well as journeys between these places. If you drive in the Republic of Ireland, your car insurance gives you the same cover as within the territorial limits. Thanks for asking!\"},\n",
              " {'question': 'What losses are not covered under the policy?',\n",
              "  'LLMoutput': 'The insurance policy does not cover losses caused by deliberate acts, indirect losses such as loss of use of the car, travel costs, and loss of earnings, losses from towing, losses incurred while the car is being used by anyone not named on the policy, losses due to the car being removed or seized by an authority, liabilities under separate contracts, any loss or damage due to radioactivity or pollution, and legal costs or expenses. Thanks for asking!'},\n",
              " {'question': 'What should I do if I have a complaint related to Motor Legal Cover?',\n",
              "  'LLMoutput': 'If your complaint is related to Motor Legal Cover, you can refer your complaint to arbitration where an independent person, known as an arbitrator, will make a decision to settle the dispute. The arbitrator will be a solicitor, barrister or other suitably qualified person that you and the insurance company agree on. If you cannot agree, then the Chartered Institute of Arbitrators will be asked to decide. The arbitrator’s decision will be final, and the losing party will have to pay all costs and expenses. Thanks for asking!'}]"
            ]
          },
          "metadata": {},
          "execution_count": 36
        }
      ]
    }
  ]
}